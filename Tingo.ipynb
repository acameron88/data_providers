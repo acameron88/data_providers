{
 "cells": [
  {
   "cell_type": "code",
   "execution_count": 1,
   "id": "e0f0927d",
   "metadata": {},
   "outputs": [],
   "source": [
    "import requests\n",
    "import pandas as pd\n",
    "from datetime import datetime\n",
    "from pytz import timezone\n",
    "import pytz"
   ]
  },
  {
   "cell_type": "code",
   "execution_count": 2,
   "id": "4560ca55",
   "metadata": {},
   "outputs": [],
   "source": [
    "def get_pst_time():\n",
    "    date_format='%Y-%m-%d %H:%M:%S %z'\n",
    "    date = datetime.now(tz=pytz.utc)\n",
    "    date = date.astimezone(timezone('US/Pacific'))\n",
    "    pstDateTime=date.strftime(date_format)\n",
    "    pstDateTime = \"{0}:{1}\".format(pstDateTime[:-2],pstDateTime[-2:])\n",
    "    return pstDateTime"
   ]
  },
  {
   "cell_type": "code",
   "execution_count": 3,
   "id": "db5a45cf",
   "metadata": {},
   "outputs": [
    {
     "ename": "SyntaxError",
     "evalue": "invalid syntax (<ipython-input-3-8e97a591f79d>, line 8)",
     "output_type": "error",
     "traceback": [
      "\u001b[0;36m  File \u001b[0;32m\"<ipython-input-3-8e97a591f79d>\"\u001b[0;36m, line \u001b[0;32m8\u001b[0m\n\u001b[0;31m    requestResponse = requests.get(f\"https://api.tiingo.com/tiingo/daily/{ticker}/prices?&token={token}&startDate=2010-1-1\", headers=headers)\u001b[0m\n\u001b[0m                                                                                                                          ^\u001b[0m\n\u001b[0;31mSyntaxError\u001b[0m\u001b[0;31m:\u001b[0m invalid syntax\n"
     ]
    }
   ],
   "source": [
    "headers = {\n",
    "    'Content-Type': 'application/json'\n",
    "}\n",
    "token = \"057112a234d3cc62dd57719a6917f54775a5d676\"\n",
    "ticker = \"btcusd\"\n",
    "freq = \"1day\"\n",
    "startDate = \"2021-01-01\"\n",
    "requestResponse = requests.get(f\"https://api.tiingo.com/tiingo/daily/{ticker}/prices?&token={token}&startDate=2010-1-1\", headers=headers)\n",
    "data = requestResponse.json()\n",
    "#df = pd.DataFrame(data[0])\n",
    "#df.tail()\n",
    "print(data)"
   ]
  },
  {
   "cell_type": "code",
   "execution_count": null,
   "id": "4dff7900",
   "metadata": {},
   "outputs": [],
   "source": [
    "newDF = df[['date', 'open', 'high', 'low', 'close', 'volume']].copy()\n",
    "newDF.columns = newDF.columns.str.capitalize()\n",
    "newDF['Date'] = newDF['Date'].astype(str).str[:10] + \" 00:00:00 +00:00\"\n",
    "newDF.set_index('Date', inplace=True)\n",
    "newDF['Engine'] = float(\"NaN\")\n",
    "newDF['Source'] = \"Tiingo\"\n",
    "newDF['Update'] = get_pst_time()\n",
    "newDF.head()"
   ]
  },
  {
   "cell_type": "code",
   "execution_count": null,
   "id": "3eea420b",
   "metadata": {},
   "outputs": [],
   "source": []
  }
 ],
 "metadata": {
  "kernelspec": {
   "display_name": "conda_amazonei_tensorflow2_p36",
   "language": "python",
   "name": "conda_amazonei_tensorflow2_p36"
  },
  "language_info": {
   "codemirror_mode": {
    "name": "ipython",
    "version": 3
   },
   "file_extension": ".py",
   "mimetype": "text/x-python",
   "name": "python",
   "nbconvert_exporter": "python",
   "pygments_lexer": "ipython3",
   "version": "3.6.13"
  }
 },
 "nbformat": 4,
 "nbformat_minor": 5
}
