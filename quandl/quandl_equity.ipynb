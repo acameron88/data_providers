{
 "cells": [
  {
   "cell_type": "code",
   "execution_count": 1,
   "id": "d3df50bb",
   "metadata": {},
   "outputs": [
    {
     "name": "stdout",
     "output_type": "stream",
     "text": [
      "Requirement already satisfied: quandl in /home/ec2-user/anaconda3/envs/JupyterSystemEnv/lib/python3.6/site-packages (3.6.1)\n",
      "Requirement already satisfied: six in /home/ec2-user/anaconda3/envs/JupyterSystemEnv/lib/python3.6/site-packages (from quandl) (1.16.0)\n",
      "Requirement already satisfied: more-itertools in /home/ec2-user/anaconda3/envs/JupyterSystemEnv/lib/python3.6/site-packages (from quandl) (8.8.0)\n",
      "Requirement already satisfied: inflection>=0.3.1 in /home/ec2-user/anaconda3/envs/JupyterSystemEnv/lib/python3.6/site-packages (from quandl) (0.5.1)\n",
      "Requirement already satisfied: pandas>=0.14 in /home/ec2-user/anaconda3/envs/JupyterSystemEnv/lib/python3.6/site-packages (from quandl) (0.22.0)\n",
      "Requirement already satisfied: requests>=2.7.0 in /home/ec2-user/anaconda3/envs/JupyterSystemEnv/lib/python3.6/site-packages (from quandl) (2.25.1)\n",
      "Requirement already satisfied: numpy>=1.8 in /home/ec2-user/anaconda3/envs/JupyterSystemEnv/lib/python3.6/site-packages (from quandl) (1.19.5)\n",
      "Requirement already satisfied: python-dateutil in /home/ec2-user/anaconda3/envs/JupyterSystemEnv/lib/python3.6/site-packages (from quandl) (2.8.1)\n",
      "Requirement already satisfied: pytz>=2011k in /home/ec2-user/anaconda3/envs/JupyterSystemEnv/lib/python3.6/site-packages (from pandas>=0.14->quandl) (2021.1)\n",
      "Requirement already satisfied: certifi>=2017.4.17 in /home/ec2-user/anaconda3/envs/JupyterSystemEnv/lib/python3.6/site-packages (from requests>=2.7.0->quandl) (2021.5.30)\n",
      "Requirement already satisfied: idna<3,>=2.5 in /home/ec2-user/anaconda3/envs/JupyterSystemEnv/lib/python3.6/site-packages (from requests>=2.7.0->quandl) (2.10)\n",
      "Requirement already satisfied: urllib3<1.27,>=1.21.1 in /home/ec2-user/anaconda3/envs/JupyterSystemEnv/lib/python3.6/site-packages (from requests>=2.7.0->quandl) (1.26.5)\n",
      "Requirement already satisfied: chardet<5,>=3.0.2 in /home/ec2-user/anaconda3/envs/JupyterSystemEnv/lib/python3.6/site-packages (from requests>=2.7.0->quandl) (4.0.0)\n"
     ]
    }
   ],
   "source": [
    "import quandl\n",
    "import pandas as pd\n",
    "import numpy as np\n",
    "from datetime import datetime\n",
    "from pytz import timezone\n",
    "import pytz\n",
    "import sys\n",
    "from boto3.session import Session\n",
    "import boto3\n",
    "import io\n",
    "from io import StringIO\n",
    "import botocore"
   ]
  },
  {
   "cell_type": "code",
   "execution_count": 2,
   "id": "952d747b",
   "metadata": {},
   "outputs": [],
   "source": [
    "quandl.ApiConfig.api_key = \"sXju3Jbujdoy1eqBMaBy\""
   ]
  },
  {
   "cell_type": "code",
   "execution_count": 3,
   "id": "01f147c9",
   "metadata": {},
   "outputs": [],
   "source": [
    "def get_pst_time():\n",
    "    date_format='%Y-%m-%d %H:%M:%S %z'\n",
    "    date = datetime.now(tz=pytz.utc)\n",
    "    date = date.astimezone(timezone('US/Pacific'))\n",
    "    pstDateTime=date.strftime(date_format)\n",
    "    pstDateTime = \"{0}:{1}\".format(pstDateTime[:-2],pstDateTime[-2:])\n",
    "    return pstDateTime"
   ]
  },
  {
   "cell_type": "code",
   "execution_count": 4,
   "id": "bc2e7995",
   "metadata": {},
   "outputs": [],
   "source": [
    "def save_s3_object(bucket,folder,filename,datafrane):\n",
    "    csv_buffer = StringIO()\n",
    "    datafrane.to_csv(csv_buffer, sep=\",\", index=True)\n",
    "    s3_resource = boto3.resource('s3')\n",
    "    s3_resource.Object(bucket, folder+filename).put(Body=csv_buffer.getvalue()) "
   ]
  },
  {
   "cell_type": "code",
   "execution_count": 5,
   "id": "7d133da0",
   "metadata": {},
   "outputs": [],
   "source": [
    "def get_ndx():\n",
    "    df = pd.read_csv('holdings_1625692286016.csv')\n",
    "    return df['Holding Ticker'].str.strip().replace('.','_').replace('-','_')"
   ]
  },
  {
   "cell_type": "code",
   "execution_count": 6,
   "id": "f6a40da4",
   "metadata": {},
   "outputs": [],
   "source": [
    "def get_all_data(ticker):\n",
    "    data = quandl.get(f\"EOD/{ticker}\")\n",
    "    data.index = pd.to_datetime(data.index, utc=True)\n",
    "    data.index = data.index.astype(str).str.replace('+', ' +')\n",
    "    formattedTable = data[['Adj_Open', 'Adj_High', 'Adj_Low', 'Adj_Close', 'Adj_Volume']].copy()\n",
    "    formattedTable['Engine'] = float(\"NaN\")\n",
    "    formattedTable['Source'] = \"Quandl\"\n",
    "    formattedTable['Update'] = get_pst_time()\n",
    "    return formattedTable.rename({'Adj_Open': 'Open', 'Adj_High' : 'High', 'Adj_Low' : 'Low', 'Adj_Close' : 'Close', 'Adj_Volume' : 'Volume'}, axis=1)"
   ]
  },
  {
   "cell_type": "code",
   "execution_count": 7,
   "id": "116ecc09",
   "metadata": {},
   "outputs": [
    {
     "name": "stdout",
     "output_type": "stream",
     "text": [
      "AAPL: 1/102\n",
      "MSFT: 2/102\n",
      "AMZN: 3/102\n",
      "FB: 4/102\n",
      "GOOG: 5/102\n",
      "TSLA: 6/102\n",
      "NVDA: 7/102\n",
      "GOOGL: 8/102\n",
      "PYPL: 9/102\n",
      "ADBE: 10/102\n",
      "CMCSA: 11/102\n",
      "NFLX: 12/102\n",
      "INTC: 13/102\n",
      "CSCO: 14/102\n",
      "PEP: 15/102\n",
      "AVGO: 16/102\n",
      "TMUS: 17/102\n",
      "TXN: 18/102\n",
      "COST: 19/102\n",
      "QCOM: 20/102\n",
      "AMGN: 21/102\n",
      "CHTR: 22/102\n",
      "INTU: 23/102\n",
      "SBUX: 24/102\n",
      "AMAT: 25/102\n",
      "AMD: 26/102\n",
      "ISRG: 27/102\n",
      "ZM: 28/102\n",
      "MRNA: 29/102\n",
      "BKNG: 30/102\n",
      "MU: 31/102\n",
      "LRCX: 32/102\n",
      "MDLZ: 33/102\n",
      "GILD: 34/102\n",
      "ADP: 35/102\n",
      "MELI: 36/102\n",
      "CSX: 37/102\n",
      "ATVI: 38/102\n",
      "FISV: 39/102\n",
      "ILMN: 40/102\n",
      "ADSK: 41/102\n",
      "ADI: 42/102\n",
      "REGN: 43/102\n",
      "JD: 44/102\n",
      "IDXX: 45/102\n",
      "DOCU: 46/102\n",
      "NXPI: 47/102\n",
      "ASML: 48/102\n",
      "BIIB: 49/102\n",
      "VRTX: 50/102\n",
      "KDP: 51/102\n",
      "KHC: 52/102\n",
      "BIDU: 53/102\n",
      "MNST: 54/102\n",
      "ALGN: 55/102\n",
      "KLAC: 56/102\n",
      "MRVL: 57/102\n",
      "EBAY: 58/102\n",
      "LULU: 59/102\n",
      "MAR: 60/102\n",
      "ROST: 61/102\n",
      "WDAY: 62/102\n",
      "EXC: 63/102\n",
      "MTCH: 64/102\n",
      "PDD: 65/102\n",
      "DXCM: 66/102\n",
      "SNPS: 67/102\n",
      "AEP: 68/102\n",
      "WBA: 69/102\n",
      "EA: 70/102\n",
      "ALXN: 71/102\n",
      "ORLY: 72/102\n",
      "CTAS: 73/102\n",
      "MCHP: 74/102\n",
      "PAYX: 75/102\n",
      "CDNS: 76/102\n",
      "TEAM: 77/102\n",
      "CTSH: 78/102\n",
      "XEL: 79/102\n",
      "XLNX: 80/102\n",
      "PTON: 81/102\n",
      "NTES: 82/102\n",
      "CPRT: 83/102\n",
      "SWKS: 84/102\n",
      "OKTA: 85/102\n",
      "ANSS: 86/102\n",
      "FAST: 87/102\n",
      "PCAR: 88/102\n",
      "VRSK: 89/102\n",
      "SGEN: 90/102\n",
      "MXIM: 91/102\n",
      "SIRI: 92/102\n",
      "VRSN: 93/102\n",
      "CDW: 94/102\n",
      "CERN: 95/102\n",
      "SPLK: 96/102\n",
      "DLTR: 97/102\n",
      "INCY: 98/102\n",
      "TCOM: 99/102\n",
      "CHKP: 100/102\n",
      "FOXA: 101/102\n",
      "FOX: 102/102\n"
     ]
    }
   ],
   "source": [
    "#sys.stdout = open('/dev/stdout', 'w')\n",
    "ndxList = get_ndx()\n",
    "counter = 0\n",
    "total = ndxList.shape[0]\n",
    "for ticker in ndxList:\n",
    "    counter += 1\n",
    "    print(f\"{ticker}: {counter}/{total}\")\n",
    "    df = get_all_data(ticker)\n",
    "    save_s3_object('lc-market-data', 'Equities/US/', f\"{ticker}_daily.txt\", df)"
   ]
  },
  {
   "cell_type": "code",
   "execution_count": null,
   "id": "53e68164",
   "metadata": {},
   "outputs": [],
   "source": []
  }
 ],
 "metadata": {
  "kernelspec": {
   "display_name": "conda_amazonei_tensorflow2_p36",
   "language": "python",
   "name": "conda_amazonei_tensorflow2_p36"
  },
  "language_info": {
   "codemirror_mode": {
    "name": "ipython",
    "version": 3
   },
   "file_extension": ".py",
   "mimetype": "text/x-python",
   "name": "python",
   "nbconvert_exporter": "python",
   "pygments_lexer": "ipython3",
   "version": "3.6.13"
  }
 },
 "nbformat": 4,
 "nbformat_minor": 5
}
